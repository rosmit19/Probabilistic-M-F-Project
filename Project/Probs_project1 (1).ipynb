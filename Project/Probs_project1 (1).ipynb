{
 "cells": [
  {
   "cell_type": "code",
   "execution_count": null,
   "id": "6e9a5883-913c-4c20-b870-8b3cebbbb814",
   "metadata": {},
   "outputs": [],
   "source": [
    "try:\n",
    "    from tqdm import tqdm\n",
    "except ImportError:\n",
    "    tqdm = lambda x, total, unit: x  # If tqdm doesn't exist, replace it with a function that does nothing\n",
    "    print('**** Could not import tqdm. Please install tqdm for download progressbars! (pip install tqdm) ****')\n",
    "\n",
    "# Python2 compatibility\n",
    "try:\n",
    "    input = raw_input\n",
    "except NameError:\n",
    "    pass\n",
    "\n",
    "download_dict = {\n",
    "    '1) Kuzushiji-MNIST (10 classes, 28x28, 70k examples)': {\n",
    "        '1) MNIST data format (ubyte.gz)':\n",
    "            ['http://codh.rois.ac.jp/kmnist/dataset/kmnist/train-images-idx3-ubyte.gz',\n",
    "            'http://codh.rois.ac.jp/kmnist/dataset/kmnist/train-labels-idx1-ubyte.gz',\n",
    "            'http://codh.rois.ac.jp/kmnist/dataset/kmnist/t10k-images-idx3-ubyte.gz',\n",
    "            'http://codh.rois.ac.jp/kmnist/dataset/kmnist/t10k-labels-idx1-ubyte.gz'],\n",
    "        '2) NumPy data format (.npz)':\n",
    "            ['http://codh.rois.ac.jp/kmnist/dataset/kmnist/kmnist-train-imgs.npz',\n",
    "            'http://codh.rois.ac.jp/kmnist/dataset/kmnist/kmnist-train-labels.npz',\n",
    "            'http://codh.rois.ac.jp/kmnist/dataset/kmnist/kmnist-test-imgs.npz',\n",
    "            'http://codh.rois.ac.jp/kmnist/dataset/kmnist/kmnist-test-labels.npz'],\n",
    "    },\n",
    "    '2) Kuzushiji-49 (49 classes, 28x28, 270k examples)': {\n",
    "        '1) NumPy data format (.npz)':\n",
    "            ['http://codh.rois.ac.jp/kmnist/dataset/k49/k49-train-imgs.npz',\n",
    "            'http://codh.rois.ac.jp/kmnist/dataset/k49/k49-train-labels.npz',\n",
    "            'http://codh.rois.ac.jp/kmnist/dataset/k49/k49-test-imgs.npz',\n",
    "            'http://codh.rois.ac.jp/kmnist/dataset/k49/k49-test-labels.npz'],\n",
    "    },\n",
    "    '3) Kuzushiji-Kanji (3832 classes, 64x64, 140k examples)': {\n",
    "        '1) Folders of images (.tar)':\n",
    "            ['http://codh.rois.ac.jp/kmnist/dataset/kkanji/kkanji.tar'],\n",
    "    }\n",
    "\n",
    "}\n",
    "\n",
    "# Download a list of files\n",
    "def download_list(url_list):\n",
    "    for url in url_list:\n",
    "        path = url.split('/')[-1]\n",
    "        r = requests.get(url, stream=True)\n",
    "        with open(path, 'wb') as f:\n",
    "            total_length = int(r.headers.get('content-length'))\n",
    "            print('Downloading {} - {:.1f} MB'.format(path, (total_length / 1024000)))\n",
    "\n",
    "            for chunk in tqdm(r.iter_content(chunk_size=1024), total=int(total_length / 1024) + 1, unit=\"KB\"):\n",
    "                if chunk:\n",
    "                    f.write(chunk)\n",
    "    print('All dataset files downloaded!')\n",
    "\n",
    "# Ask the user about which path to take down the dict\n",
    "def traverse_dict(d):\n",
    "    print('Please select a download option:')\n",
    "    keys = sorted(d.keys())  # Print download options\n",
    "    for key in keys:\n",
    "        print(key)\n",
    "\n",
    "    userinput = input('> ').strip()\n",
    "\n",
    "    try:\n",
    "        selection = int(userinput) - 1\n",
    "    except ValueError:\n",
    "        print('Your selection was not valid')\n",
    "        traverse_dict(d)  # Try again if input was not valid\n",
    "        return\n",
    "\n",
    "    selected = keys[selection]\n",
    "\n",
    "    next_level = d[selected]\n",
    "    if isinstance(next_level, list):  # If we've hit a list of downloads, download that list\n",
    "        download_list(next_level)\n",
    "    else:\n",
    "        traverse_dict(next_level)     # Otherwise, repeat with the next level\n",
    "\n",
    "traverse_dict(download_dict)"
   ]
  },
  {
   "cell_type": "code",
   "execution_count": null,
   "id": "d1d601b7-8e69-4959-968a-0b83b3bdee4c",
   "metadata": {},
   "outputs": [],
   "source": []
  },
  {
   "cell_type": "markdown",
   "id": "d42275ae-4f50-4e82-a307-be4f109b3027",
   "metadata": {},
   "source": [
    "Libraries Import"
   ]
  },
  {
   "cell_type": "code",
   "execution_count": null,
   "id": "00e839f0-f1f2-428c-b551-479e740d6f14",
   "metadata": {},
   "outputs": [],
   "source": [
    "import numpy as np\n",
    "import torch\n",
    "import torch.nn as nn\n",
    "import torch.nn.functional as F\n",
    "import torch.optim as optim\n",
    "import matplotlib.pyplot as plt\n",
    "from torch.utils.data import DataLoader, TensorDataset\n",
    "import numpy as np\n",
    "import matplotlib.pyplot as plt\n",
    "from torch.utils.data import DataLoader, TensorDataset\n",
    "import matplotlib.pyplot as plt\n",
    "import torch\n",
    "import torch.nn as nn\n",
    "import torch.optim as optim\n"
   ]
  },
  {
   "cell_type": "code",
   "execution_count": 4,
   "id": "2e9d9320-b744-497d-99fe-9cd63ed4bab9",
   "metadata": {},
   "outputs": [],
   "source": [
    "# Load the dataset\n",
    "train_images = np.load('C:/Users/rosmi/OneDrive/Desktop/Probs Model n Inference/Project/datasets/k49-train-imgs.npz')['arr_0']\n",
    "train_labels = np.load('C:/Users/rosmi/OneDrive/Desktop/Probs Model n Inference/Project/datasets/k49-train-labels.npz')['arr_0']\n",
    "test_images = np.load('C:/Users/rosmi/OneDrive/Desktop/Probs Model n Inference/Project/datasets/k49-test-imgs.npz')['arr_0']\n",
    "test_labels = np.load('C:/Users/rosmi/OneDrive/Desktop/Probs Model n Inference/Project/datasets/k49-test-labels.npz')['arr_0']\n"
   ]
  },
  {
   "cell_type": "code",
   "execution_count": 5,
   "id": "52bb55a4-768d-4abe-baad-e9f93cae5365",
   "metadata": {},
   "outputs": [],
   "source": [
    "\n",
    "# Normalize the images to the range [0, 1]\n",
    "train_images = train_images / 255.0\n",
    "test_images = test_images / 255.0\n",
    "\n",
    "# Define a function for one-hot encoding using PyTorch\n",
    "def to_one_hot(labels, num_classes):\n",
    "    return torch.eye(num_classes)[labels]\n",
    "\n",
    "# Convert labels to PyTorch tensors\n",
    "train_labels_tensor = torch.tensor(train_labels, dtype=torch.long)\n",
    "test_labels_tensor = torch.tensor(test_labels, dtype=torch.long)\n",
    "\n",
    "# One-hot encode the labels\n",
    "num_classes = 49\n",
    "train_labels_onehot = to_one_hot(train_labels_tensor, num_classes)\n",
    "test_labels_onehot = to_one_hot(test_labels_tensor, num_classes)\n",
    "\n",
    "# Convert images to PyTorch tensors and add a channel dimension\n",
    "train_images_tensor = torch.tensor(train_images, dtype=torch.float32).unsqueeze(1)  # Add channel dimension\n",
    "test_images_tensor = torch.tensor(test_images, dtype=torch.float32).unsqueeze(1)  # Add channel dimension\n",
    "\n",
    "# Create TensorDataset and DataLoader\n",
    "\n",
    "train_dataset = TensorDataset(train_images_tensor, train_labels_onehot)\n",
    "train_loader = DataLoader(train_dataset, batch_size=64, shuffle=True)\n",
    "test_dataset = TensorDataset(test_images_tensor, test_labels_onehot)\n",
    "test_loader = DataLoader(test_dataset, batch_size=64, shuffle=False)\n"
   ]
  },
  {
   "cell_type": "code",
   "execution_count": 6,
   "id": "a8406d62-6ecf-48da-af80-f1f059519bf1",
   "metadata": {},
   "outputs": [],
   "source": [
    "\n",
    "# Define the C-VAE model\n",
    "class CVAE(nn.Module):\n",
    "    def __init__(self, image_size, label_size, hidden_dim, latent_dim):\n",
    "        super(CVAE, self).__init__()\n",
    "        self.fc1 = nn.Linear(image_size + label_size, hidden_dim)\n",
    "        self.fc2_mean = nn.Linear(hidden_dim, latent_dim)\n",
    "        self.fc2_logvar = nn.Linear(hidden_dim, latent_dim)\n",
    "        self.fc3 = nn.Linear(latent_dim + label_size, hidden_dim)\n",
    "        self.fc4 = nn.Linear(hidden_dim, image_size)\n",
    "    \n",
    "    def encode(self, x, c):\n",
    "        h = F.relu(self.fc1(torch.cat([x, c], dim=1)))\n",
    "        return self.fc2_mean(h), self.fc2_logvar(h)\n",
    "    \n",
    "    def reparameterize(self, mean, logvar):\n",
    "        std = torch.exp(0.5 * logvar)\n",
    "        eps = torch.randn_like(std)\n",
    "        return mean + eps * std\n",
    "    \n",
    "    def decode(self, z, c):\n",
    "        h = F.relu(self.fc3(torch.cat([z, c], dim=1)))\n",
    "        return torch.sigmoid(self.fc4(h))\n",
    "    \n",
    "    def forward(self, x, c):\n",
    "        mean, logvar = self.encode(x.view(-1, 28*28), c)\n",
    "        z = self.reparameterize(mean, logvar)\n",
    "        return self.decode(z, c), mean, logvar\n",
    "\n",
    "# Create an instance of the C-VAE model\n",
    "image_size = 28 * 28  # 28x28 images\n",
    "label_size = 49  # 49 classes\n",
    "hidden_dim = 256\n",
    "latent_dim = 64\n",
    "cvae = CVAE(image_size, label_size, hidden_dim, latent_dim)\n"
   ]
  },
  {
   "cell_type": "code",
   "execution_count": 10,
   "id": "911c35be-6616-41b6-987d-700c56382ca8",
   "metadata": {},
   "outputs": [
    {
     "name": "stdout",
     "output_type": "stream",
     "text": [
      "Epoch 1, Loss: 176.7678120477885\n",
      "Epoch 2, Loss: 176.51697227296293\n",
      "Epoch 3, Loss: 176.33677118720144\n",
      "Epoch 4, Loss: 176.14994233462843\n",
      "Epoch 5, Loss: 175.99693103051771\n",
      "Epoch 6, Loss: 175.86768389457993\n",
      "Epoch 7, Loss: 175.7128473076773\n",
      "Epoch 8, Loss: 175.6117209143952\n",
      "Epoch 9, Loss: 175.48108021685644\n",
      "Epoch 10, Loss: 175.38313406608407\n",
      "Epoch 11, Loss: 175.32293828119955\n",
      "Epoch 12, Loss: 175.23331557898874\n",
      "Epoch 13, Loss: 175.17244780403405\n",
      "Epoch 14, Loss: 175.09704658820712\n",
      "Epoch 15, Loss: 175.04931509920746\n",
      "Epoch 16, Loss: 174.9898151631727\n",
      "Epoch 17, Loss: 174.93430103021848\n",
      "Epoch 18, Loss: 174.84566460296838\n",
      "Epoch 19, Loss: 174.82053166707686\n",
      "Epoch 20, Loss: 174.76781480896838\n",
      "Epoch 21, Loss: 174.72001773879458\n",
      "Epoch 22, Loss: 174.66653451247902\n",
      "Epoch 23, Loss: 174.61132862302102\n",
      "Epoch 24, Loss: 174.5736033851309\n",
      "Epoch 25, Loss: 174.5317962954464\n",
      "Epoch 26, Loss: 174.49835751824313\n",
      "Epoch 27, Loss: 174.45322769319685\n",
      "Epoch 28, Loss: 174.41912866829261\n",
      "Epoch 29, Loss: 174.3820009253525\n",
      "Epoch 30, Loss: 174.3582526329132\n",
      "Epoch 31, Loss: 174.3481009323458\n",
      "Epoch 32, Loss: 174.31434080549795\n",
      "Epoch 33, Loss: 174.24519323131847\n",
      "Epoch 34, Loss: 174.23039413510264\n",
      "Epoch 35, Loss: 174.23022202786095\n",
      "Epoch 36, Loss: 174.1444703779614\n",
      "Epoch 37, Loss: 174.15079103390678\n",
      "Epoch 38, Loss: 174.15216271830553\n",
      "Epoch 39, Loss: 174.09964656477283\n",
      "Epoch 40, Loss: 174.09190856619705\n"
     ]
    }
   ],
   "source": [
    "# Move model to GPU if available\n",
    "device = torch.device('cuda' if torch.cuda.is_available() else 'cpu')\n",
    "cvae.to(device)\n",
    "\n",
    "# Define the loss function\n",
    "def loss_function(recon_x, x, mean, logvar):\n",
    "    BCE = F.binary_cross_entropy(recon_x, x.view(-1, 28*28), reduction='sum')\n",
    "    KLD = -0.5 * torch.sum(1 + logvar - mean.pow(2) - logvar.exp())\n",
    "    return BCE + KLD\n",
    "\n",
    "optimizer = optim.Adam(cvae.parameters(), lr=1e-3)\n",
    "# Training loop with batching and GPU utilization\n",
    "num_epochs = 40\n",
    "for epoch in range(num_epochs):\n",
    "    cvae.train()\n",
    "    train_loss = 0\n",
    "    for batch_idx, (img, lbl) in enumerate(train_loader):\n",
    "        img = img.view(-1, 28*28).to(device)\n",
    "        lbl = lbl.to(device)\n",
    "        \n",
    "        optimizer.zero_grad()\n",
    "        recon_batch, mean, logvar = cvae(img, lbl)\n",
    "        loss = loss_function(recon_batch, img, mean, logvar)\n",
    "        loss.backward()\n",
    "        train_loss += loss.item()\n",
    "        optimizer.step()\n",
    "    \n",
    "    print(f'Epoch {epoch+1}, Loss: {train_loss / len(train_loader.dataset)}')"
   ]
  },
  {
   "cell_type": "code",
   "execution_count": 11,
   "id": "6f17bf26-7804-4b2b-86c4-125fe33aa288",
   "metadata": {},
   "outputs": [
    {
     "data": {
      "image/png": "[encoded data removed]",
      "text/plain": [
       "<Figure size 1000x200 with 5 Axes>"
      ]
     },
     "metadata": {},
     "output_type": "display_data"
    }
   ],
   "source": [
    "\n",
    "\n",
    "# Function to generate new images and show the class label\n",
    "def generate_and_show_images(cvae, num_samples, label):\n",
    "    cvae.eval()  # Set the model to evaluation mode\n",
    "    with torch.no_grad():\n",
    "        z = torch.randn(num_samples, latent_dim).to(device)\n",
    "        labels = torch.eye(num_classes)[torch.tensor([label] * num_samples)].to(device)\n",
    "        generated_images = cvae.decode(z, labels).view(-1, 1, 28, 28).cpu()\n",
    "    \n",
    "    plt.figure(figsize=(10, 2))\n",
    "    for i in range(num_samples):\n",
    "        plt.subplot(1, num_samples, i + 1)\n",
    "        plt.imshow(generated_images[i, 0, :, :], cmap='gray')\n",
    "        plt.title(f'Label: {label}')\n",
    "        plt.axis('off')\n",
    "    plt.show()\n",
    "\n",
    "# Generate and show 5 new images for a specific class (e.g., class 0)\n",
    "generate_and_show_images(cvae, num_samples=5, label=0)\n"
   ]
  },
  {
   "cell_type": "code",
   "execution_count": 12,
   "id": "ad95a00c-f78b-4067-8933-5863b05d4083",
   "metadata": {},
   "outputs": [
    {
     "data": {
      "image/png": "[encoded data removed]",
      "text/plain": [
       "<Figure size 1000x200 with 5 Axes>"
      ]
     },
     "metadata": {},
     "output_type": "display_data"
    },
    {
     "data": {
      "image/png": "[encoded data removed]",
      "text/plain": [
       "<Figure size 1000x200 with 5 Axes>"
      ]
     },
     "metadata": {},
     "output_type": "display_data"
    },
    {
     "data": {
      "image/png": "[encoded data removed]",
      "text/plain": [
       "<Figure size 1000x200 with 5 Axes>"
      ]
     },
     "metadata": {},
     "output_type": "display_data"
    },
    {
     "data": {
      "image/png": "[encoded data removed]",
      "text/plain": [
       "<Figure size 1000x200 with 5 Axes>"
      ]
     },
     "metadata": {},
     "output_type": "display_data"
    },
    {
     "data": {
      "image/png": "[encoded data removed]",
      "text/plain": [
       "<Figure size 1000x200 with 5 Axes>"
      ]
     },
     "metadata": {},
     "output_type": "display_data"
    }
   ],
   "source": [
    "# Generate and show images for multiple classes\n",
    "for label in range(5):  # Change range to generate for more labels\n",
    "    generate_and_show_images(cvae, num_samples=5, label=label)\n"
   ]
  },
  {
   "cell_type": "code",
   "execution_count": null,
   "id": "ab8393e9-5fb5-4a39-8ff6-297c193bcee0",
   "metadata": {},
   "outputs": [],
   "source": []
  },
  {
   "cell_type": "markdown",
   "id": "69df5b8a-985e-4c78-9fa3-a6d62e754dd3",
   "metadata": {},
   "source": [
    "CGAN"
   ]
  },
  {
   "cell_type": "code",
   "execution_count": null,
   "id": "8eb31cb4-4188-4ca0-bd6b-355778536525",
   "metadata": {},
   "outputs": [],
   "source": []
  },
  {
   "cell_type": "code",
   "execution_count": 1,
   "id": "e27d8420-4a26-4d68-9621-e62c1736cda8",
   "metadata": {},
   "outputs": [],
   "source": [
    "\n",
    "\n",
    "class CGANGenerator(nn.Module):\n",
    "    def __init__(self, z_dim, label_dim, img_dim):\n",
    "        super(CGANGenerator, self).__init__()\n",
    "        self.label_emb = nn.Embedding(label_dim, label_dim)\n",
    "        self.model = nn.Sequential(\n",
    "            nn.Linear(z_dim + label_dim, 256),\n",
    "            nn.ReLU(),\n",
    "            nn.Linear(256, 512),\n",
    "            nn.BatchNorm1d(512, momentum=0.8),\n",
    "            nn.ReLU(),\n",
    "            nn.Linear(512, 1024),\n",
    "            nn.BatchNorm1d(1024, momentum=0.8),\n",
    "            nn.ReLU(),\n",
    "            nn.Linear(1024, img_dim),\n",
    "            nn.Tanh()\n",
    "        )\n",
    "\n",
    "    def forward(self, noise, labels):\n",
    "        c = self.label_emb(labels)\n",
    "        x = torch.cat([noise, c], 1)\n",
    "        img = self.model(x)\n",
    "        img = img.view(img.size(0), 1, 28, 28)\n",
    "        return img\n"
   ]
  },
  {
   "cell_type": "code",
   "execution_count": 2,
   "id": "95716d15-9b2b-47b4-840c-8c06f4447221",
   "metadata": {},
   "outputs": [],
   "source": [
    "class CGANDiscriminator(nn.Module):\n",
    "    def __init__(self, img_dim, label_dim):\n",
    "        super(CGANDiscriminator, self).__init__()\n",
    "        self.label_emb = nn.Embedding(label_dim, label_dim)\n",
    "        self.model = nn.Sequential(\n",
    "            nn.Linear(img_dim + label_dim, 512),\n",
    "            nn.LeakyReLU(0.2, inplace=True),\n",
    "            nn.Linear(512, 256),\n",
    "            nn.LeakyReLU(0.2, inplace=True),\n",
    "            nn.Linear(256, 1),\n",
    "            nn.Sigmoid()\n",
    "        )\n",
    "\n",
    "    def forward(self, img, labels):\n",
    "        img_flat = img.view(img.size(0), -1)\n",
    "        c = self.label_emb(labels)\n",
    "        x = torch.cat([img_flat, c], 1)\n",
    "        validity = self.model(x)\n",
    "        return validity\n"
   ]
  },
  {
   "cell_type": "code",
   "execution_count": 8,
   "id": "809583e1-24b1-466d-be07-7c9298532799",
   "metadata": {},
   "outputs": [
    {
     "name": "stdout",
     "output_type": "stream",
     "text": [
      "Requirement already satisfied: pandoc in c:\\users\\rosmi\\appdata\\local\\programs\\python\\python310\\lib\\site-packages (2.3)Note: you may need to restart the kernel to use updated packages.\n"
     ]
    },
    {
     "name": "stderr",
     "output_type": "stream",
     "text": [
      "WARNING: Ignoring invalid distribution -otebook (c:\\users\\rosmi\\appdata\\local\\programs\\python\\python310\\lib\\site-packages)\n",
      "WARNING: Ignoring invalid distribution -otebook (c:\\users\\rosmi\\appdata\\local\\programs\\python\\python310\\lib\\site-packages)\n",
      "WARNING: Ignoring invalid distribution -otebook (c:\\users\\rosmi\\appdata\\local\\programs\\python\\python310\\lib\\site-packages)\n",
      "WARNING: Ignoring invalid distribution -otebook (c:\\users\\rosmi\\appdata\\local\\programs\\python\\python310\\lib\\site-packages)\n",
      "WARNING: Ignoring invalid distribution -otebook (c:\\users\\rosmi\\appdata\\local\\programs\\python\\python310\\lib\\site-packages)\n",
      "WARNING: Ignoring invalid distribution -otebook (c:\\users\\rosmi\\appdata\\local\\programs\\python\\python310\\lib\\site-packages)\n",
      "WARNING: You are using pip version 22.0.4; however, version 24.0 is available.\n",
      "You should consider upgrading via the 'C:\\Users\\rosmi\\AppData\\Local\\Programs\\Python\\Python310\\python.exe -m pip install --upgrade pip' command.\n"
     ]
    },
    {
     "name": "stdout",
     "output_type": "stream",
     "text": [
      "\n",
      "Requirement already satisfied: plumbum in c:\\users\\rosmi\\appdata\\local\\programs\\python\\python310\\lib\\site-packages (from pandoc) (1.8.3)\n",
      "Requirement already satisfied: ply in c:\\users\\rosmi\\appdata\\local\\programs\\python\\python310\\lib\\site-packages (from pandoc) (3.11)\n",
      "Requirement already satisfied: pywin32 in c:\\users\\rosmi\\appdata\\local\\programs\\python\\python310\\lib\\site-packages (from plumbum->pandoc) (304)\n"
     ]
    }
   ],
   "source": [
    "pip install pandoc"
   ]
  },
  {
   "cell_type": "code",
   "execution_count": 5,
   "id": "154848e2-b414-4c6d-80f7-d2e3b05c0810",
   "metadata": {},
   "outputs": [],
   "source": [
    "\n",
    "\n",
    "# Normalize the images to the range [0, 1]\n",
    "train_images = train_images / 255.0\n",
    "train_images = torch.tensor(train_images, dtype=torch.float32).unsqueeze(1)  # Shape (N, 1, 28, 28)\n",
    "train_labels = torch.tensor(train_labels, dtype=torch.long)\n",
    "\n",
    "# Create DataLoader\n",
    "batch_size = 64\n",
    "train_dataset = TensorDataset(train_images, train_labels)\n",
    "train_loader = DataLoader(train_dataset, batch_size=batch_size, shuffle=True)\n",
    "\n",
    "# Hyperparameters\n",
    "z_dim = 100\n",
    "label_dim = 49\n",
    "img_dim = 28 * 28\n",
    "lr = 0.0002\n",
    "\n",
    "# Device\n",
    "device = torch.device('cuda' if torch.cuda.is_available() else 'cpu')"
   ]
  },
  {
   "cell_type": "code",
   "execution_count": 6,
   "id": "9e655d78-1c05-4fc4-9ae9-a62529679335",
   "metadata": {},
   "outputs": [],
   "source": [
    "# Model instantiation\n",
    "generator = CGANGenerator(z_dim, label_dim, img_dim).to(device)\n",
    "discriminator = CGANDiscriminator(img_dim, label_dim).to(device)\n",
    "\n",
    "# Optimizers\n",
    "optimizer_G = optim.Adam(generator.parameters(), lr=lr, betas=(0.5, 0.999))\n",
    "optimizer_D = optim.Adam(discriminator.parameters(), lr=lr, betas=(0.5, 0.999))\n",
    "\n",
    "# Loss function\n",
    "adversarial_loss = nn.BCELoss()"
   ]
  },
  {
   "cell_type": "code",
   "execution_count": 7,
   "id": "29e18deb-6b40-4092-8a80-0ef0cadbce83",
   "metadata": {},
   "outputs": [
    {
     "name": "stdout",
     "output_type": "stream",
     "text": [
      "Epoch [0/10] | D Loss: 0.9015692472457886 | G Loss: 1.9576539993286133\n",
      "Epoch [1/10] | D Loss: 0.8211238980293274 | G Loss: 2.0626869201660156\n",
      "Epoch [2/10] | D Loss: 0.6699961423873901 | G Loss: 2.801133394241333\n",
      "Epoch [3/10] | D Loss: 0.5795276165008545 | G Loss: 3.9844069480895996\n",
      "Epoch [4/10] | D Loss: 0.45219576358795166 | G Loss: 2.496548891067505\n",
      "Epoch [5/10] | D Loss: 0.40856117010116577 | G Loss: 3.119898796081543\n",
      "Epoch [6/10] | D Loss: 0.6129084825515747 | G Loss: 2.7360942363739014\n",
      "Epoch [7/10] | D Loss: 0.3954985737800598 | G Loss: 3.745521068572998\n",
      "Epoch [8/10] | D Loss: 0.41457656025886536 | G Loss: 3.344794750213623\n",
      "Epoch [9/10] | D Loss: 0.2834777534008026 | G Loss: 4.072869777679443\n"
     ]
    }
   ],
   "source": [
    "num_epochs = 10\n",
    "for epoch in range(num_epochs):\n",
    "    for imgs, labels in train_loader:\n",
    "        batch_size = imgs.size(0)\n",
    "        \n",
    "        real_imgs = imgs.to(device)\n",
    "        labels = labels.to(device)\n",
    "        \n",
    "        # Labels for real and fake images\n",
    "        valid = torch.ones(batch_size, 1).to(device)\n",
    "        fake = torch.zeros(batch_size, 1).to(device)\n",
    "        \n",
    "        # ---------------------\n",
    "        #  Train Discriminator\n",
    "        # ---------------------\n",
    "        optimizer_D.zero_grad()\n",
    "        \n",
    "        # Generate fake images\n",
    "        z = torch.randn(batch_size, z_dim).to(device)\n",
    "        gen_labels = torch.randint(0, label_dim, (batch_size,)).to(device)\n",
    "        gen_imgs = generator(z, gen_labels)\n",
    "        \n",
    "        # Real loss\n",
    "        real_loss = adversarial_loss(discriminator(real_imgs, labels), valid)\n",
    "        # Fake loss\n",
    "        fake_loss = adversarial_loss(discriminator(gen_imgs.detach(), gen_labels), fake)\n",
    "        # Total loss\n",
    "        d_loss = real_loss + fake_loss\n",
    "        \n",
    "        d_loss.backward()\n",
    "        optimizer_D.step()\n",
    "        \n",
    "        # -----------------\n",
    "        #  Train Generator\n",
    "        # -----------------\n",
    "        optimizer_G.zero_grad()\n",
    "        \n",
    "        # Loss measures generator's ability to fool the discriminator\n",
    "        g_loss = adversarial_loss(discriminator(gen_imgs, gen_labels), valid)\n",
    "        \n",
    "        g_loss.backward()\n",
    "        optimizer_G.step()\n",
    "        \n",
    "    print(f\"Epoch [{epoch}/{num_epochs}] | D Loss: {d_loss.item()} | G Loss: {g_loss.item()}\")"
   ]
  },
  {
   "cell_type": "code",
   "execution_count": null,
   "id": "17808241-0c70-4aa3-aee4-174cab98ca53",
   "metadata": {},
   "outputs": [],
   "source": []
  },
  {
   "cell_type": "code",
   "execution_count": null,
   "id": "48e23a53-5f4f-45ad-bafd-ae901d470283",
   "metadata": {},
   "outputs": [],
   "source": [
    "def generate_images(generator, num_samples, label, z_dim=100):\n",
    "    z = torch.randn(num_samples, z_dim).to(device)\n",
    "    labels = torch.tensor([label] * num_samples).to(device)\n",
    "    with torch.no_grad():\n",
    "        generated_imgs = generator(z, labels)\n",
    "    return generated_imgs\n",
    "\n",
    "def show_generated_images(images, num_images, label):\n",
    "    images = images.cpu().numpy()\n",
    "    plt.figure(figsize=(10, 2))\n",
    "    for i in range(num_images):\n",
    "        plt.subplot(1, num_images, i+1)\n",
    "        plt.imshow(images[i].reshape(28, 28), cmap='gray')\n",
    "        plt.axis('off')\n",
    "        plt.title(f\"Label: {label}\")\n",
    "    plt.show()\n",
    "\n",
    "# Generate and display images\n",
    "for label in range(5):  # Adjust range for more labels\n",
    "    generated_imgs = generate_images(generator, num_samples=5, label=label)\n",
    "    show_generated_images(generated_imgs, num_images=5, label=label)"
   ]
  }
 ],
 "metadata": {
  "kernelspec": {
   "display_name": "Python 3 (ipykernel)",
   "language": "python",
   "name": "python3"
  },
  "language_info": {
   "codemirror_mode": {
    "name": "ipython",
    "version": 3
   },
   "file_extension": ".py",
   "mimetype": "text/x-python",
   "name": "python",
   "nbconvert_exporter": "python",
   "pygments_lexer": "ipython3",
   "version": "3.10.5"
  }
 },
 "nbformat": 4,
 "nbformat_minor": 5
}
